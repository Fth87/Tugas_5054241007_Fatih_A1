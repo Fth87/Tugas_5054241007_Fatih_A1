{
 "cells": [
  {
   "cell_type": "markdown",
   "metadata": {},
   "source": [
    "Temukan angka yang hilang dari list berikut lalu GUNAKAN INSERT LIST \n",
    "PYTHON untuk memasukkan ke dalam list\n",
    "CONTOH : \n",
    "[1,2,3,5,6,8]\n",
    "\n",
    "A = [1,2,3,5,6,8] \n",
    "A.insert(3,4) \n",
    "A.insert(6,7)\n",
    "\n",
    "Hasil  :  \n",
    "[1,2,3,4,5,6,7,8]\n",
    "\n",
    "Soal :\n",
    "1.  [1,2,3,4,6,7,8] \n",
    "2.  [1,2,3,4,5,6,7,9,11] \n",
    "3.  [2,4,10] \n",
    "4.  [1,3,7,11,15]"
   ]
  },
  {
   "cell_type": "code",
   "execution_count": 2,
   "metadata": {},
   "outputs": [
    {
     "name": "stdout",
     "output_type": "stream",
     "text": [
      "[1, 2, 3, 4, 5, 6, 6, 7, 8]\n"
     ]
    }
   ],
   "source": [
    "satu = [1,2,3,4,6,7,8]\n",
    "satu.insert(4,5)\n",
    "\n",
    "print(satu)"
   ]
  },
  {
   "cell_type": "code",
   "execution_count": 6,
   "metadata": {},
   "outputs": [
    {
     "name": "stdout",
     "output_type": "stream",
     "text": [
      "[1, 2, 3, 4, 5, 6, 7, 8, 9, 10, 11]\n"
     ]
    }
   ],
   "source": [
    "dua = [1,2,3,4,5,6,7,9,11] \n",
    "dua.insert(7,8)\n",
    "dua.insert(9,10)\n",
    "\n",
    "print(dua)"
   ]
  },
  {
   "cell_type": "code",
   "execution_count": 12,
   "metadata": {},
   "outputs": [
    {
     "name": "stdout",
     "output_type": "stream",
     "text": [
      "[1, 2, 3, 4, 5, 6, 7, 8, 9, 10]\n"
     ]
    }
   ],
   "source": [
    "tiga = [2,4,10] \n",
    "tiga.insert(0,1)\n",
    "tiga.insert(2,3)\n",
    "for num in range(4, 9):\n",
    "  tiga.insert(num, num + 1)\n",
    "print(tiga)"
   ]
  },
  {
   "cell_type": "code",
   "execution_count": 14,
   "metadata": {},
   "outputs": [
    {
     "name": "stdout",
     "output_type": "stream",
     "text": [
      "[1, 2, 3, 4, 5, 6, 7, 8, 9, 10, 11, 12, 13, 14, 15]\n"
     ]
    }
   ],
   "source": [
    "empat = [1,3,7,11,15]\n",
    "for num in range(14):\n",
    "  if num+1 not in empat:\n",
    "    empat.insert(num, num + 1)\n",
    "    \n",
    "print(empat)"
   ]
  },
  {
   "cell_type": "markdown",
   "metadata": {},
   "source": [
    "Hapuslah angka yang seharusnya tidak ada pada daftar! \n",
    "CONTOH : \n",
    "[1,2,3,4,5,9,10,6,7,8] \n",
    "A = [1,2,3,4,5,9,10,6,7,8] \n",
    "A.pop(5) \n",
    "A.pop(6) \n",
    " \n",
    "Hasil  :  \n",
    "[1,2,3,4,5,6,7,8] \n",
    "\n",
    "SOAL :  \n",
    "5.  [1,2,5,3,4,6,7] \n",
    "6.  [2,4,8,6,10] \n",
    "7.  [3,5,11,7,9] \n",
    "8.  [1,4,9,10,13]"
   ]
  },
  {
   "cell_type": "code",
   "execution_count": 15,
   "metadata": {},
   "outputs": [
    {
     "name": "stdout",
     "output_type": "stream",
     "text": [
      "[1, 2, 3, 4, 5, 6, 7]\n"
     ]
    }
   ],
   "source": [
    "lima = [1,2,5,3,4,6,7] \n",
    "lima.pop(2)\n",
    "lima.insert(4,5)\n",
    "\n",
    "print(lima)"
   ]
  },
  {
   "cell_type": "code",
   "execution_count": 16,
   "metadata": {},
   "outputs": [
    {
     "name": "stdout",
     "output_type": "stream",
     "text": [
      "[2, 4, 8, 10]\n"
     ]
    }
   ],
   "source": [
    "enam = [2,4,8,6,10]\n",
    "enam.pop(3)\n",
    "print(enam)"
   ]
  },
  {
   "cell_type": "code",
   "execution_count": 18,
   "metadata": {},
   "outputs": [
    {
     "name": "stdout",
     "output_type": "stream",
     "text": [
      "[3, 5, 7, 9]\n"
     ]
    }
   ],
   "source": [
    "tujuh = [3,5,11,7,9]\n",
    "tujuh.pop(2)\n",
    "print(tujuh)"
   ]
  },
  {
   "cell_type": "code",
   "execution_count": 19,
   "metadata": {},
   "outputs": [
    {
     "name": "stdout",
     "output_type": "stream",
     "text": [
      "[1, 4, 9, 13]\n"
     ]
    }
   ],
   "source": [
    "delapan =[1,4,9,10,13]\n",
    "delapan.pop(3)\n",
    "print(delapan)"
   ]
  }
 ],
 "metadata": {
  "kernelspec": {
   "display_name": "Python 3",
   "language": "python",
   "name": "python3"
  },
  "language_info": {
   "codemirror_mode": {
    "name": "ipython",
    "version": 3
   },
   "file_extension": ".py",
   "mimetype": "text/x-python",
   "name": "python",
   "nbconvert_exporter": "python",
   "pygments_lexer": "ipython3",
   "version": "3.12.5"
  }
 },
 "nbformat": 4,
 "nbformat_minor": 2
}
